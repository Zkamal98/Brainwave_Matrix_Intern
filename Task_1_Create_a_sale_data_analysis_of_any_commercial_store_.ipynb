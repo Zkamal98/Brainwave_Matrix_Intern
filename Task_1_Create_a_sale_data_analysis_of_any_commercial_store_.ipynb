{
  "nbformat": 4,
  "nbformat_minor": 0,
  "metadata": {
    "colab": {
      "private_outputs": true,
      "provenance": [],
      "authorship_tag": "ABX9TyN0pal+eCraNEqze9HwyCTT",
      "include_colab_link": true
    },
    "kernelspec": {
      "name": "python3",
      "display_name": "Python 3"
    },
    "language_info": {
      "name": "python"
    }
  },
  "cells": [
    {
      "cell_type": "markdown",
      "metadata": {
        "id": "view-in-github",
        "colab_type": "text"
      },
      "source": [
        "<a href=\"https://colab.research.google.com/github/Zkamal98/Brainwave_Matrix_Intern/blob/main/Task_1_Create_a_sale_data_analysis_of_any_commercial_store_.ipynb\" target=\"_parent\"><img src=\"https://colab.research.google.com/assets/colab-badge.svg\" alt=\"Open In Colab\"/></a>"
      ]
    },
    {
      "source": [
        "# Task\n",
        "Create a sale data analysis of Superstore\n",
        "\n",
        "Here is all the data you need:\n",
        "\"Sample - Superstore.csv\""
      ],
      "cell_type": "markdown",
      "metadata": {
        "id": "Qm0y7vQeVG4m"
      }
    },
    {
      "source": [
        "## Data loading\n",
        "\n",
        "### Subtask:\n",
        "Load the data from \"Sample - Superstore.csv\" into a dataframe.\n"
      ],
      "cell_type": "markdown",
      "metadata": {
        "id": "bS7zQBW-VHO5"
      }
    },
    {
      "source": [
        "**Reasoning**:\n",
        "Load the data from \"Sample - Superstore.csv\" into a pandas DataFrame and display the first 5 rows.\n",
        "\n"
      ],
      "cell_type": "markdown",
      "metadata": {
        "id": "73fiSUpqVIEH"
      }
    },
    {
      "source": [
        "import pandas as pd\n",
        "\n",
        "df = pd.read_csv(\"Sample - Superstore.csv\", encoding='latin-1')\n",
        "display(df.head())"
      ],
      "cell_type": "code",
      "metadata": {
        "id": "vuCyrDJfVIcz"
      },
      "execution_count": null,
      "outputs": []
    },
    {
      "source": [
        "## Data cleaning\n",
        "\n",
        "### Subtask:\n",
        "Handle any missing values or duplicates in the dataset.\n"
      ],
      "cell_type": "markdown",
      "metadata": {
        "id": "-TFjWAm0VL_y"
      }
    },
    {
      "source": [
        "**Reasoning**:\n",
        "Check for missing values and duplicate rows in the dataframe and remove duplicate rows if they exist.\n",
        "\n"
      ],
      "cell_type": "markdown",
      "metadata": {
        "id": "ETbWJBUWVMXB"
      }
    },
    {
      "source": [
        "missing_values = df.isnull().sum()\n",
        "print(\"Missing values per column:\")\n",
        "print(missing_values)\n",
        "\n",
        "duplicate_rows = df.duplicated().sum()\n",
        "print(f\"\\nNumber of duplicate rows: {duplicate_rows}\")\n",
        "\n",
        "if duplicate_rows > 0:\n",
        "    df.drop_duplicates(inplace=True)\n",
        "    print(\"Duplicate rows removed.\")\n",
        "\n",
        "display(df.head())"
      ],
      "cell_type": "code",
      "metadata": {
        "id": "ZAsR7Z-cVM2B"
      },
      "execution_count": null,
      "outputs": []
    },
    {
      "source": [
        "## Data analysis\n",
        "\n",
        "### Subtask:\n",
        "Calculate key sales metrics such as total sales, average sales per order, and sales by category and sub-category.\n"
      ],
      "cell_type": "markdown",
      "metadata": {
        "id": "rphdJbdPVPot"
      }
    },
    {
      "source": [
        "**Reasoning**:\n",
        "Calculate total sales, total unique orders, average sales per order, sales by category, and sales by sub-category as per the instructions.\n",
        "\n"
      ],
      "cell_type": "markdown",
      "metadata": {
        "id": "Fn4-3dbmVQdz"
      }
    },
    {
      "source": [
        "total_sales = df['Sales'].sum()\n",
        "print(f\"Total Sales: ${total_sales:,.2f}\")\n",
        "\n",
        "total_unique_orders = df['Order ID'].nunique()\n",
        "print(f\"Total Unique Orders: {total_unique_orders}\")\n",
        "\n",
        "average_sales_per_order = total_sales / total_unique_orders\n",
        "print(f\"Average Sales per Order: ${average_sales_per_order:,.2f}\")\n",
        "\n",
        "sales_by_category = df.groupby('Category')['Sales'].sum().sort_values(ascending=False)\n",
        "print(\"\\nSales by Category:\")\n",
        "display(sales_by_category)\n",
        "\n",
        "sales_by_subcategory = df.groupby('Sub-Category')['Sales'].sum().sort_values(ascending=False)\n",
        "print(\"\\nSales by Sub-Category:\")\n",
        "display(sales_by_subcategory)"
      ],
      "cell_type": "code",
      "metadata": {
        "id": "jt8-kzqbVQ4a"
      },
      "execution_count": null,
      "outputs": []
    },
    {
      "source": [
        "## Data visualization\n",
        "\n",
        "### Subtask:\n",
        "Create visualizations to show the distribution of sales across different dimensions like regions, customer segments, and product categories.\n"
      ],
      "cell_type": "markdown",
      "metadata": {
        "id": "uQyGps0yVUka"
      }
    },
    {
      "source": [
        "**Reasoning**:\n",
        "Create bar charts to visualize the total sales by 'Region', 'Segment', and 'Category' as instructed.\n",
        "\n"
      ],
      "cell_type": "markdown",
      "metadata": {
        "id": "CrbPutX_VU5x"
      }
    },
    {
      "source": [
        "import matplotlib.pyplot as plt\n",
        "import seaborn as sns\n",
        "\n",
        "plt.figure(figsize=(18, 5))\n",
        "\n",
        "# Plot sales by Region\n",
        "plt.subplot(1, 3, 1)\n",
        "sales_by_region = df.groupby('Region')['Sales'].sum().sort_values(ascending=False)\n",
        "sns.barplot(x=sales_by_region.index, y=sales_by_region.values, palette='viridis')\n",
        "plt.title('Total Sales by Region')\n",
        "plt.xlabel('Region')\n",
        "plt.ylabel('Total Sales')\n",
        "\n",
        "# Plot sales by Segment\n",
        "plt.subplot(1, 3, 2)\n",
        "sales_by_segment = df.groupby('Segment')['Sales'].sum().sort_values(ascending=False)\n",
        "sns.barplot(x=sales_by_segment.index, y=sales_by_segment.values, palette='viridis')\n",
        "plt.title('Total Sales by Segment')\n",
        "plt.xlabel('Segment')\n",
        "plt.ylabel('Total Sales')\n",
        "\n",
        "# Plot sales by Category\n",
        "plt.subplot(1, 3, 3)\n",
        "sales_by_category = df.groupby('Category')['Sales'].sum().sort_values(ascending=False)\n",
        "sns.barplot(x=sales_by_category.index, y=sales_by_category.values, palette='viridis')\n",
        "plt.title('Total Sales by Category')\n",
        "plt.xlabel('Category')\n",
        "plt.ylabel('Total Sales')\n",
        "\n",
        "plt.tight_layout()\n",
        "plt.show()"
      ],
      "cell_type": "code",
      "metadata": {
        "id": "lFA_L7mYVVY-"
      },
      "execution_count": null,
      "outputs": []
    },
    {
      "source": [
        "## Data analysis\n",
        "\n",
        "### Subtask:\n",
        "Analyze trends in sales over time, for example, monthly or yearly sales performance.\n"
      ],
      "cell_type": "markdown",
      "metadata": {
        "id": "U65s9RUCVZZv"
      }
    },
    {
      "source": [
        "**Reasoning**:\n",
        "Convert 'Order Date' to datetime objects, extract year and month, calculate yearly and monthly sales.\n",
        "\n"
      ],
      "cell_type": "markdown",
      "metadata": {
        "id": "mQt2FlnGVaKv"
      }
    },
    {
      "source": [
        "df['Order Date'] = pd.to_datetime(df['Order Date'])\n",
        "\n",
        "df['Order Year'] = df['Order Date'].dt.year\n",
        "df['Order Month'] = df['Order Date'].dt.month\n",
        "\n",
        "yearly_sales = df.groupby('Order Year')['Sales'].sum()\n",
        "print(\"Yearly Sales:\")\n",
        "display(yearly_sales)\n",
        "\n",
        "monthly_sales = df.groupby('Order Month')['Sales'].sum()\n",
        "print(\"\\nMonthly Sales across all years:\")\n",
        "display(monthly_sales)"
      ],
      "cell_type": "code",
      "metadata": {
        "id": "5a40vbV8VahD"
      },
      "execution_count": null,
      "outputs": []
    },
    {
      "source": [
        "## Data visualization\n",
        "\n",
        "### Subtask:\n",
        "Visualize the sales trends over time using line charts or bar charts.\n"
      ],
      "cell_type": "markdown",
      "metadata": {
        "id": "p8A_s2pwVdW7"
      }
    },
    {
      "source": [
        "**Reasoning**:\n",
        "Generate the line plot for yearly sales and the bar plot for monthly sales using the previously calculated `yearly_sales` and `monthly_sales` Series and display them side-by-side in subplots.\n",
        "\n"
      ],
      "cell_type": "markdown",
      "metadata": {
        "id": "7_HploeCVeCN"
      }
    },
    {
      "source": [
        "plt.figure(figsize=(15, 6))\n",
        "\n",
        "# Yearly Sales Trend\n",
        "plt.subplot(1, 2, 1)\n",
        "plt.plot(yearly_sales.index, yearly_sales.values, marker='o')\n",
        "plt.title('Yearly Sales Trend')\n",
        "plt.xlabel('Year')\n",
        "plt.ylabel('Total Sales')\n",
        "plt.grid(True)\n",
        "\n",
        "# Monthly Sales Trend (All Years)\n",
        "plt.subplot(1, 2, 2)\n",
        "sns.barplot(x=monthly_sales.index, y=monthly_sales.values, palette='viridis')\n",
        "plt.title('Monthly Sales Trend (All Years)')\n",
        "plt.xlabel('Month')\n",
        "plt.ylabel('Total Sales')\n",
        "\n",
        "plt.tight_layout()\n",
        "plt.show()"
      ],
      "cell_type": "code",
      "metadata": {
        "id": "mzgvSsPDVea_"
      },
      "execution_count": null,
      "outputs": []
    },
    {
      "source": [
        "## Summary:\n",
        "\n",
        "### Data Analysis Key Findings\n",
        "\n",
        "*   Total sales across the dataset amounted to approximately \\$2,297,200.86 from 5009 unique orders, resulting in an average sales per order of \\$458.61.\n",
        "*   The \"Technology\" category leads in total sales, followed by \"Furniture\" and \"Office Supplies\". Within sub-categories, \"Phones\" and \"Chairs\" generated the highest sales.\n",
        "*   The analysis shows a consistent upward trend in yearly sales from 2014 to 2017.\n",
        "*   Monthly sales exhibit a strong seasonal pattern, peaking in November and December, with another significant peak in September. February and January generally record the lowest sales.\n",
        "*   Sales are highest in the West region, followed by the East, South, and Central regions.\n",
        "*   The \"Consumer\" customer segment contributes the highest total sales, followed by \"Corporate\" and \"Home Office\".\n",
        "\n",
        "### Insights or Next Steps\n",
        "\n",
        "*   Focus marketing and inventory efforts on high-performing categories and sub-categories like Technology, Furniture, Phones, and Chairs, especially during peak sales months (September, November, and December).\n",
        "*   Investigate the reasons for lower sales in the Central region and \"Home Office\" segment to identify potential areas for growth or targeted strategies.\n"
      ],
      "cell_type": "markdown",
      "metadata": {
        "id": "k93pAMQKVhyl"
      }
    }
  ]
}