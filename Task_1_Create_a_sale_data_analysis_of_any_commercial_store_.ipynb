{
  "nbformat": 4,
  "nbformat_minor": 0,
  "metadata": {
    "colab": {
      "private_outputs": true,
      "provenance": []
    },
    "kernelspec": {
      "name": "python3",
      "display_name": "Python 3"
    },
    "language_info": {
      "name": "python"
    }
  },
  "cells": [
    {
      "source": [
        "## Data loading\n",
        "\n",
        "### Subtask:\n",
        "Load the data from \"Sample - Superstore.csv\" into a dataframe.\n"
      ],
      "cell_type": "markdown",
      "metadata": {
        "id": "w6eikr5igtSW"
      }
    },
    {
      "source": [
        "**Reasoning**:\n",
        "Import the pandas library and load the data from the CSV file into a DataFrame, then display the first few rows to verify the loading process.\n",
        "\n"
      ],
      "cell_type": "markdown",
      "metadata": {
        "id": "H8hvkFhXgt2P"
      }
    },
    {
      "source": [
        "import pandas as pd\n",
        "\n",
        "df = pd.read_csv('Sample - Superstore.csv')\n",
        "display(df.head())"
      ],
      "cell_type": "code",
      "metadata": {
        "id": "C1xdKJ0BguF8"
      },
      "execution_count": null,
      "outputs": []
    },
    {
      "source": [
        "**Reasoning**:\n",
        "The previous attempt to read the CSV failed due to a UnicodeDecodeError. This often happens when the default encoding (UTF-8) is not the correct encoding for the file. I will try reading the file again, specifying a different common encoding, such as 'latin-1', which is often successful for files that cause UTF-8 errors.\n",
        "\n"
      ],
      "cell_type": "markdown",
      "metadata": {
        "id": "Dc3YfL7sgvtT"
      }
    },
    {
      "source": [
        "df = pd.read_csv('Sample - Superstore.csv', encoding='latin-1')\n",
        "display(df.head())"
      ],
      "cell_type": "code",
      "metadata": {
        "id": "l_rxnZt1gv9M"
      },
      "execution_count": null,
      "outputs": []
    },
    {
      "source": [
        "## Data cleaning\n",
        "\n",
        "### Subtask:\n",
        "Clean the data by handling missing values, duplicate values, and converting data types where necessary.\n"
      ],
      "cell_type": "markdown",
      "metadata": {
        "id": "mYicY6Hig0CB"
      }
    },
    {
      "source": [
        "**Reasoning**:\n",
        "Check for missing values in the DataFrame and display the count of missing values per column.\n",
        "\n"
      ],
      "cell_type": "markdown",
      "metadata": {
        "id": "J2u7YvDdg0m8"
      }
    },
    {
      "source": [
        "missing_values = df.isnull().sum()\n",
        "print(\"Missing values per column:\")\n",
        "print(missing_values)"
      ],
      "cell_type": "code",
      "metadata": {
        "id": "g5gXxyrgg023"
      },
      "execution_count": null,
      "outputs": []
    },
    {
      "source": [
        "**Reasoning**:\n",
        "There are no missing values found. Now check for duplicate rows in the DataFrame and display the number of duplicate rows.\n",
        "\n"
      ],
      "cell_type": "markdown",
      "metadata": {
        "id": "FGv8AhyPg2ZC"
      }
    },
    {
      "source": [
        "duplicate_rows = df.duplicated().sum()\n",
        "print(f\"\\nNumber of duplicate rows: {duplicate_rows}\")"
      ],
      "cell_type": "code",
      "metadata": {
        "id": "-fjepeYWg2vB"
      },
      "execution_count": null,
      "outputs": []
    },
    {
      "source": [
        "**Reasoning**:\n",
        "There are no duplicate rows found. Now inspect the data types of each column in the DataFrame.\n",
        "\n"
      ],
      "cell_type": "markdown",
      "metadata": {
        "id": "EqK1w72gg4ao"
      }
    },
    {
      "source": [
        "print(\"\\nData types of each column:\")\n",
        "print(df.dtypes)"
      ],
      "cell_type": "code",
      "metadata": {
        "id": "YpvAcoUJg4r_"
      },
      "execution_count": null,
      "outputs": []
    },
    {
      "source": [
        "**Reasoning**:\n",
        "Convert 'Order Date' and 'Ship Date' columns to datetime objects.\n",
        "\n"
      ],
      "cell_type": "markdown",
      "metadata": {
        "id": "2P-LVqvOg6gg"
      }
    },
    {
      "source": [
        "df['Order Date'] = pd.to_datetime(df['Order Date'])\n",
        "df['Ship Date'] = pd.to_datetime(df['Ship Date'])\n",
        "print(\"\\nData types after conversion:\")\n",
        "print(df[['Order Date', 'Ship Date']].dtypes)"
      ],
      "cell_type": "code",
      "metadata": {
        "id": "laeoXXrqg64k"
      },
      "execution_count": null,
      "outputs": []
    },
    {
      "source": [
        "## Data exploration\n",
        "\n",
        "### Subtask:\n",
        "Explore the data to get an overview of total sales, profit, and quantity, and identify initial trends.\n"
      ],
      "cell_type": "markdown",
      "metadata": {
        "id": "yRbxace2g9-P"
      }
    },
    {
      "source": [
        "**Reasoning**:\n",
        "Calculate the total sales, profit, and quantity, and then analyze their distributions using descriptive statistics. After that, extract year and month from 'Order Date', and group data by year and month to calculate total sales, profit, and quantity for each period.\n",
        "\n"
      ],
      "cell_type": "markdown",
      "metadata": {
        "id": "FaRv0sfWg-u7"
      }
    },
    {
      "source": [
        "total_sales = df['Sales'].sum()\n",
        "total_profit = df['Profit'].sum()\n",
        "total_quantity = df['Quantity'].sum()\n",
        "\n",
        "print(f\"Total Sales: ${total_sales:,.2f}\")\n",
        "print(f\"Total Profit: ${total_profit:,.2f}\")\n",
        "print(f\"Total Quantity: {total_quantity:,}\")\n",
        "\n",
        "print(\"\\nSales Distribution:\")\n",
        "display(df['Sales'].describe())\n",
        "\n",
        "print(\"\\nProfit Distribution:\")\n",
        "display(df['Profit'].describe())\n",
        "\n",
        "print(\"\\nQuantity Distribution:\")\n",
        "display(df['Quantity'].describe())\n",
        "\n",
        "df['Order Year'] = df['Order Date'].dt.year\n",
        "df['Order Month'] = df['Order Date'].dt.month\n",
        "\n",
        "time_trends = df.groupby(['Order Year', 'Order Month']).agg({\n",
        "    'Sales': 'sum',\n",
        "    'Profit': 'sum',\n",
        "    'Quantity': 'sum'\n",
        "}).reset_index()\n",
        "\n",
        "print(\"\\nTrends over time (Sales, Profit, Quantity):\")\n",
        "display(time_trends.head())"
      ],
      "cell_type": "code",
      "metadata": {
        "id": "9l_N_yCxg_CY"
      },
      "execution_count": null,
      "outputs": []
    },
    {
      "source": [
        "## Data analysis\n",
        "\n",
        "### Subtask:\n",
        "Analyze sales and profit performance by Category, Sub-Category, Region, and Segment, and identify top-selling products and most profitable categories.\n"
      ],
      "cell_type": "markdown",
      "metadata": {
        "id": "NUjxce2_hDWF"
      }
    },
    {
      "source": [
        "**Reasoning**:\n",
        "Group the DataFrame by 'Category' and calculate the sum of 'Sales' and 'Profit' for each category.\n",
        "\n"
      ],
      "cell_type": "markdown",
      "metadata": {
        "id": "Si3H9GZohESQ"
      }
    },
    {
      "source": [
        "category_performance = df.groupby('Category').agg({\n",
        "    'Sales': 'sum',\n",
        "    'Profit': 'sum'\n",
        "}).reset_index()\n",
        "\n",
        "print(\"Performance by Category:\")\n",
        "display(category_performance)"
      ],
      "cell_type": "code",
      "metadata": {
        "id": "spZnWVUFhEpt"
      },
      "execution_count": null,
      "outputs": []
    },
    {
      "source": [
        "**Reasoning**:\n",
        "Group the DataFrame by 'Sub-Category' and calculate the sum of 'Sales' and 'Profit', then group by 'Region' and calculate the sum of 'Sales' and 'Profit', and finally group by 'Segment' and calculate the sum of 'Sales' and 'Profit'.\n",
        "\n"
      ],
      "cell_type": "markdown",
      "metadata": {
        "id": "h_EO5zmVhGSc"
      }
    },
    {
      "source": [
        "subcategory_performance = df.groupby('Sub-Category').agg({\n",
        "    'Sales': 'sum',\n",
        "    'Profit': 'sum'\n",
        "}).reset_index()\n",
        "\n",
        "print(\"\\nPerformance by Sub-Category:\")\n",
        "display(subcategory_performance)\n",
        "\n",
        "region_performance = df.groupby('Region').agg({\n",
        "    'Sales': 'sum',\n",
        "    'Profit': 'sum'\n",
        "}).reset_index()\n",
        "\n",
        "print(\"\\nPerformance by Region:\")\n",
        "display(region_performance)\n",
        "\n",
        "segment_performance = df.groupby('Segment').agg({\n",
        "    'Sales': 'sum',\n",
        "    'Profit': 'sum'\n",
        "}).reset_index()\n",
        "\n",
        "print(\"\\nPerformance by Segment:\")\n",
        "display(segment_performance)"
      ],
      "cell_type": "code",
      "metadata": {
        "id": "xoCong0QhGiM"
      },
      "execution_count": null,
      "outputs": []
    },
    {
      "source": [
        "**Reasoning**:\n",
        "Group the DataFrame by 'Product Name' and calculate the sum of 'Sales', then sort the results in descending order to identify top-selling products. Also, group the DataFrame by 'Category' and calculate the sum of 'Profit', then sort the results in descending order to identify the most profitable categories.\n",
        "\n"
      ],
      "cell_type": "markdown",
      "metadata": {
        "id": "Wl0n8Rg_hIQH"
      }
    },
    {
      "source": [
        "top_selling_products = df.groupby('Product Name')['Sales'].sum().sort_values(ascending=False).reset_index()\n",
        "\n",
        "print(\"\\nTop 10 Selling Products:\")\n",
        "display(top_selling_products.head(10))\n",
        "\n",
        "most_profitable_categories = df.groupby('Category')['Profit'].sum().sort_values(ascending=False).reset_index()\n",
        "\n",
        "print(\"\\nMost Profitable Categories:\")\n",
        "display(most_profitable_categories)"
      ],
      "cell_type": "code",
      "metadata": {
        "id": "EmdvPGLHhIjy"
      },
      "execution_count": null,
      "outputs": []
    },
    {
      "source": [
        "## Data visualization\n",
        "\n",
        "### Subtask:\n",
        "Create visualizations including sales and profit trends over time, regional performance, category-wise breakdowns, and correlation between discount and profit.\n"
      ],
      "cell_type": "markdown",
      "metadata": {
        "id": "RYfPD0R8hMZb"
      }
    },
    {
      "source": [
        "**Reasoning**:\n",
        "Create a line plot showing the monthly sales and profit trends over time using the `time_trends` DataFrame. Ensure the x-axis represents the time (year and month) and the y-axis represents sales and profit. Use different colors or lines for sales and profit.\n",
        "\n"
      ],
      "cell_type": "markdown",
      "metadata": {
        "id": "5nfE2zbkhNHP"
      }
    },
    {
      "source": [
        "import matplotlib.pyplot as plt\n",
        "import seaborn as sns\n",
        "\n",
        "time_trends['Order Date'] = pd.to_datetime(time_trends['Order Year'].astype(str) + '-' + time_trends['Order Month'].astype(str))\n",
        "\n",
        "plt.figure(figsize=(15, 7))\n",
        "sns.lineplot(data=time_trends, x='Order Date', y='Sales', label='Sales')\n",
        "sns.lineplot(data=time_trends, x='Order Date', y='Profit', label='Profit')\n",
        "plt.title('Monthly Sales and Profit Trends Over Time')\n",
        "plt.xlabel('Date')\n",
        "plt.ylabel('Amount')\n",
        "plt.xticks(rotation=45)\n",
        "plt.tight_layout()\n",
        "plt.show()"
      ],
      "cell_type": "code",
      "metadata": {
        "id": "it5UlfFmhNcF"
      },
      "execution_count": null,
      "outputs": []
    },
    {
      "source": [
        "**Reasoning**:\n",
        "Generate a bar plot to visualize the sales and profit performance by region using the `region_performance` DataFrame. Use different colored bars for sales and profit within each region.\n",
        "\n"
      ],
      "cell_type": "markdown",
      "metadata": {
        "id": "zaCj4n5LhQB4"
      }
    },
    {
      "source": [
        "plt.figure(figsize=(10, 6))\n",
        "bar_width = 0.35\n",
        "x = range(len(region_performance['Region']))\n",
        "\n",
        "plt.bar(x, region_performance['Sales'], bar_width, label='Sales', color='skyblue')\n",
        "plt.bar([i + bar_width for i in x], region_performance['Profit'], bar_width, label='Profit', color='lightcoral')\n",
        "\n",
        "plt.xlabel('Region')\n",
        "plt.ylabel('Amount')\n",
        "plt.title('Sales and Profit Performance by Region')\n",
        "plt.xticks([i + bar_width/2 for i in x], region_performance['Region'])\n",
        "plt.legend()\n",
        "plt.tight_layout()\n",
        "plt.show()"
      ],
      "cell_type": "code",
      "metadata": {
        "id": "Ff5ko-dEhQXm"
      },
      "execution_count": null,
      "outputs": []
    },
    {
      "source": [
        "**Reasoning**:\n",
        "Create a bar plot to display the sales and profit performance by category using the `category_performance` DataFrame. Similar to the regional plot, use distinct colors for sales and profit bars for each category.\n",
        "\n"
      ],
      "cell_type": "markdown",
      "metadata": {
        "id": "63f46WtUhSDQ"
      }
    },
    {
      "source": [
        "plt.figure(figsize=(10, 6))\n",
        "bar_width = 0.35\n",
        "x = range(len(category_performance['Category']))\n",
        "\n",
        "plt.bar(x, category_performance['Sales'], bar_width, label='Sales', color='skyblue')\n",
        "plt.bar([i + bar_width for i in x], category_performance['Profit'], bar_width, label='Profit', color='lightcoral')\n",
        "\n",
        "plt.xlabel('Category')\n",
        "plt.ylabel('Amount')\n",
        "plt.title('Sales and Profit Performance by Category')\n",
        "plt.xticks([i + bar_width/2 for i in x], category_performance['Category'])\n",
        "plt.legend()\n",
        "plt.tight_layout()\n",
        "plt.show()"
      ],
      "cell_type": "code",
      "metadata": {
        "id": "XYRAnKMLhSUo"
      },
      "execution_count": null,
      "outputs": []
    },
    {
      "source": [
        "**Reasoning**:\n",
        "Create a scatter plot to visualize the relationship between 'Discount' and 'Profit' from the original `df` DataFrame. The x-axis should represent 'Discount' and the y-axis should represent 'Profit'.\n",
        "\n"
      ],
      "cell_type": "markdown",
      "metadata": {
        "id": "1b_XRBcThUJ2"
      }
    },
    {
      "source": [
        "plt.figure(figsize=(10, 6))\n",
        "sns.scatterplot(data=df, x='Discount', y='Profit', alpha=0.6)\n",
        "plt.title('Correlation between Discount and Profit')\n",
        "plt.xlabel('Discount')\n",
        "plt.ylabel('Profit')\n",
        "plt.show()"
      ],
      "cell_type": "code",
      "metadata": {
        "id": "oBNda5C7hUiD"
      },
      "execution_count": null,
      "outputs": []
    },
    {
      "source": [
        "## Summary:\n",
        "\n",
        "### Data Analysis Key Findings\n",
        "\n",
        "*   The total sales across the dataset amounted to \\$2,297,200.86, with a total profit of \\$286,397.02 and a total quantity of 37,873 items sold.\n",
        "*   Sales and Profit distributions exhibit a wide range, suggesting the presence of high-value transactions or potential outliers.\n",
        "*   Technology and Office Supplies are the leading categories in both sales and profit, while the Furniture category shows the lowest profit despite having significant sales.\n",
        "*   Sub-categories like Tables and Bookcases (within Furniture) incurred negative profit, indicating areas of concern.\n",
        "*   The West and East regions are the top performers in sales and profit, whereas the Central region has the lowest profit.\n",
        "*   The Consumer segment is the largest contributor to both sales and profit.\n",
        "*   High-value items, particularly copiers and binding systems, are among the top-selling products.\n",
        "*   Technology is the most profitable category, followed by Office Supplies and Furniture.\n",
        "*   Visual analysis shows fluctuations in monthly sales and profit over time.\n",
        "*   A scatter plot indicates a potential negative correlation between discount and profit, where higher discounts might lead to lower or negative profits.\n",
        "\n",
        "### Insights or Next Steps\n",
        "\n",
        "*   Investigate the Furniture category, specifically Tables and Bookcases, to understand the reasons for low/negative profitability and explore strategies to improve it (e.g., cost reduction, pricing adjustments, or product discontinuation).\n",
        "*   Analyze the impact of discounts on profit more deeply to determine optimal discount strategies that maximize sales without significantly eroding profitability, potentially by segmenting customers or products.\n"
      ],
      "cell_type": "markdown",
      "metadata": {
        "id": "j-RcnfLlhYp0"
      }
    }
  ]
}